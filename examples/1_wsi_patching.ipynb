{
 "cells": [
  {
   "cell_type": "markdown",
   "metadata": {},
   "source": [
    "# Patching code\n",
    "In this notebook the pathcing approach with the library Histoprep is illustrated. The output is composed by a folder with all the patches, two thumbnails of the images and a metadata file. The metadata file contains different information (color, saturagion, sharpness etc.) for each patch."
   ]
  },
  {
   "cell_type": "code",
   "execution_count": 1,
   "metadata": {},
   "outputs": [],
   "source": [
    "import histoprep as hp\n",
    "import os"
   ]
  },
  {
   "cell_type": "code",
   "execution_count": null,
   "metadata": {},
   "outputs": [],
   "source": [
    "# Folders and variables name\n",
    "path='./Input/' # Input forlder\n",
    "sample='' # Specific slide name with the extation\n",
    "sample_name=os.path.join(path,sample)\n",
    "output_folder='./Output' # Output folder\n",
    "print('Patching sample: ',sample,'\\npath: ',sample_name)"
   ]
  },
  {
   "cell_type": "code",
   "execution_count": null,
   "metadata": {
    "scrolled": true
   },
   "outputs": [],
   "source": [
    "# Cut the whole slides in patches\n",
    "cutter = hp.SlideReader(sample_name)\n",
    "metadata = cutter.save_tiles(\n",
    "    output_dir=output_folder,\n",
    "    coordinates=cutter.get_tile_coordinates( # Patch cutter info\n",
    "        width=1250, # patches dimension\n",
    "        overlap=0,  # No overlap\n",
    "        max_background=0.92 # Background accepted\n",
    "    ),\n",
    "    image_format= \"png\", # Format of the saved patches\n",
    "    quality= 100, # Quality of the saved patch images\n",
    ")\n",
    "print('Sample: ',sample,' patching ready!')"
   ]
  }
 ],
 "metadata": {
  "kernelspec": {
   "display_name": "Python 3.10.6 ('HEIP')",
   "language": "python",
   "name": "python3"
  },
  "language_info": {
   "codemirror_mode": {
    "name": "ipython",
    "version": 3
   },
   "file_extension": ".py",
   "mimetype": "text/x-python",
   "name": "python",
   "nbconvert_exporter": "python",
   "pygments_lexer": "ipython3",
   "version": "3.10.6"
  },
  "vscode": {
   "interpreter": {
    "hash": "e0d2a606a7c412844c6f9f1489afeb28cbb42dbd047622a5aacfb3b04c3fbe12"
   }
  }
 },
 "nbformat": 4,
 "nbformat_minor": 2
}
