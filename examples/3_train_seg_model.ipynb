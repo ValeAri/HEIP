{
 "cells": [
  {
   "cell_type": "markdown",
   "metadata": {},
   "source": [
    "## Training the HEIP nuclei segmentation model"
   ]
  },
  {
   "cell_type": "markdown",
   "metadata": {},
   "source": [
    "This notebook shows how to train the HEIP segmentation model with the full [Pannuke dataset](https://arxiv.org/abs/2003.10778) extended with HGSOC annotations from Helsinki University. The training data validation data is available as a .hdf5 file at [here](http://google.com). The HU images and mask .mat files can be obtained from the same place. (LET'S PUT THE .h5 and the in-house images/annotations to a drive or dropbox!!)"
   ]
  },
  {
   "cell_type": "code",
   "execution_count": 7,
   "metadata": {},
   "outputs": [],
   "source": [
    "from cellseg_models_pytorch.datamodules import SimpleDownloader\n",
    "from pathlib import Path\n",
    "\n",
    "url = Path(\"https://url/to/hdf5/\")\n",
    "save_dir = Path(\"/path/to/save_dir\")\n",
    "# gdrive_id = \"google_drive_id\" # file_id can be obtained from from a sharable link.\n",
    "\n",
    "# use either download or the google drive download method.\n",
    "SimpleDownloader.download(url, save_dir=save_dir)\n",
    "# SimpleDownloader.gdrive_download(gdrive_id, file_name=\"heip_data.zip\", save_dir=save_dir) "
   ]
  },
  {
   "cell_type": "markdown",
   "metadata": {},
   "source": [
    "## Visualize training and validation patches"
   ]
  },
  {
   "cell_type": "code",
   "execution_count": 9,
   "metadata": {},
   "outputs": [],
   "source": [
    "import matplotlib.pyplot as plt\n",
    "from skimage.color import label2rgb\n",
    "from cellseg_models_pytorch.datasets.hdf5_dataset import SegmentationHDF5Dataset\n",
    "\n",
    "train_data = SegmentationHDF5Dataset(\n",
    "    save_dir / \"pannuke_ovca.h5\",\n",
    "    img_transforms=[\"hue_sat\", \"blur\"],\n",
    "    inst_transforms=[\"omnipose\"],\n",
    "    normalization=None,\n",
    "    return_binary=True,\n",
    "    return_inst=False,\n",
    ")\n",
    "\n",
    "valid_data = SegmentationHDF5Dataset(\n",
    "    save_dir / \"ovca_valid.h5\",\n",
    "    img_transforms=[None],\n",
    "    inst_transforms=[\"omnipose\"],\n",
    "    normalization=None,\n",
    "    return_binary=True,\n",
    "    return_inst=False,\n",
    ")\n",
    "\n",
    "# im1 = FileHandler.read_img(imgs[0])\n",
    "# im2 = FileHandler.read_img(imgs[50])\n",
    "# im3 = FileHandler.read_img(imgs[300])\n",
    "# mask1 = read_mask(masks[0], return_all=True)\n",
    "# mask2 = read_mask(masks[50], return_all=True)\n",
    "# mask3 = read_mask(masks[300], return_all=True)\n",
    "\n",
    "# fig, ax = plt.subplots(3, 3, figsize=(15, 15))\n",
    "# ax = ax.flatten()\n",
    "# ax[0].imshow(im1)\n",
    "# ax[1].imshow(label2rgb(mask1[\"inst_map\"], bg_label=0))\n",
    "# ax[2].imshow(label2rgb(mask1[\"type_map\"], bg_label=0))\n",
    "# ax[3].imshow(im2)\n",
    "# ax[4].imshow(label2rgb(mask2[\"inst_map\"], bg_label=0))\n",
    "# ax[5].imshow(label2rgb(mask2[\"type_map\"], bg_label=0))\n",
    "# ax[6].imshow(im3)\n",
    "# ax[7].imshow(label2rgb(mask3[\"inst_map\"], bg_label=0))\n",
    "# ax[8].imshow(label2rgb(mask3[\"type_map\"], bg_label=0))"
   ]
  },
  {
   "cell_type": "code",
   "execution_count": 1,
   "metadata": {},
   "outputs": [
    {
     "name": "stderr",
     "output_type": "stream",
     "text": [
      "/home/leos/.conda/envs/HEIP/lib/python3.10/site-packages/tqdm/auto.py:22: TqdmWarning: IProgress not found. Please update jupyter and ipywidgets. See https://ipywidgets.readthedocs.io/en/stable/user_install.html\n",
      "  from .autonotebook import tqdm as notebook_tqdm\n"
     ]
    }
   ],
   "source": [
    "from src.unet import get_seg_model\n",
    "\n",
    "unet = get_seg_model()"
   ]
  },
  {
   "cell_type": "code",
   "execution_count": null,
   "metadata": {},
   "outputs": [],
   "source": []
  }
 ],
 "metadata": {
  "kernelspec": {
   "display_name": "Python 3.9.13 ('HEIP')",
   "language": "python",
   "name": "python3"
  },
  "language_info": {
   "codemirror_mode": {
    "name": "ipython",
    "version": 3
   },
   "file_extension": ".py",
   "mimetype": "text/x-python",
   "name": "python",
   "nbconvert_exporter": "python",
   "pygments_lexer": "ipython3",
   "version": "3.9.13"
  },
  "orig_nbformat": 4,
  "vscode": {
   "interpreter": {
    "hash": "e0d2a606a7c412844c6f9f1489afeb28cbb42dbd047622a5aacfb3b04c3fbe12"
   }
  }
 },
 "nbformat": 4,
 "nbformat_minor": 2
}
