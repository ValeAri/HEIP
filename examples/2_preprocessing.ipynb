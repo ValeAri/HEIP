{
 "cells": [
  {
   "attachments": {},
   "cell_type": "markdown",
   "metadata": {},
   "source": [
    "# Preprocessing\n",
    "In this notebook, some preprocessing steps where illustrated. In particular, the metadata of the patches, previosly created with the patching code, is used to filtering the not informative ones. In case of multiple tissue per slide, the patches are moved in different folder representing the differnt tissues. The library Histoprep is used also in this case."
   ]
  },
  {
   "cell_type": "code",
   "execution_count": null,
   "metadata": {},
   "outputs": [],
   "source": [
    "# imports\n",
    "import histoprep as hp\n",
    "import os\n",
    "import pandas as pd\n",
    "from PIL import Image, ImageDraw\n",
    "import cv2\n",
    "import numpy as np\n",
    "import matplotlib.pyplot as plt\n",
    "from pickle import TRUE\n",
    "import shutil"
   ]
  },
  {
   "cell_type": "code",
   "execution_count": null,
   "metadata": {
    "scrolled": false
   },
   "outputs": [],
   "source": [
    "# Folders and variables name\n",
    "path='./Output/' #Input forlder\n",
    "sample='' #Specific slide name without the extation\n",
    "sample_name=os.path.join(path,sample,'metadata.parquet')\n",
    "output_folder=os.path.join(path,sample)\n",
    "print('Preprocessing sample: ',sample,'\\npath: ',sample_name)"
   ]
  },
  {
   "cell_type": "code",
   "execution_count": null,
   "metadata": {},
   "outputs": [],
   "source": [
    "# Load of metadata and thumbail image\n",
    "metadata=pd.read_parquet(sample_name,engine='pyarrow')\n",
    "thumbnail_path=os.path.join(output_folder,'thumbnail.jpeg')\n",
    "thumbnail=Image.open(thumbnail_path).convert('RGB')\n",
    "annotated_thumbnail = thumbnail.copy()\n",
    "annotated = ImageDraw.Draw(annotated_thumbnail)"
   ]
  },
  {
   "cell_type": "code",
   "execution_count": null,
   "metadata": {},
   "outputs": [],
   "source": [
    "#Filter the patch with not informative infomation. The parameters and thresholds should be adjust according with dataset\n",
    "filtered_coordinates=[]\n",
    "filtered_xy=[]\n",
    "for i in range(0,len(metadata)):\n",
    "    if metadata['hue_q10'][i]>144 or metadata['black_pixels'][i]>0.2 or metadata['brightness_q10'][i]<45 \\\n",
    "    or metadata['saturation_q50'][i]<30 or metadata['laplacian_std'][i]<8:\n",
    "\n",
    "        filtered_coordinates.append(i)\n",
    "        filtered_xy.append([metadata['y'][i],metadata['x'][i]])"
   ]
  },
  {
   "cell_type": "code",
   "execution_count": null,
   "metadata": {},
   "outputs": [],
   "source": [
    "# Saving of the image with the eliminated patches\n",
    "width=1250\n",
    "downsample = 64\n",
    "w = h = int(width/downsample)\n",
    "for i in filtered_coordinates:\n",
    "    x_d = round(metadata['x'][i]/downsample)\n",
    "    y_d = round(metadata['y'][i]/downsample)\n",
    "    annotated.rectangle([x_d, y_d, x_d+w, y_d+h]\n",
    "                        , outline='red', width=2)\n",
    "# Deletion of the patches also in the medata file\n",
    "metadata = metadata.drop(labels=filtered_coordinates, axis=0)\n",
    "metadata=metadata.reset_index()\n",
    "annotated_thumbnail.save(os.path.join(output_folder,'thumbnail_eliminatedTile.jpeg'))"
   ]
  },
  {
   "cell_type": "code",
   "execution_count": null,
   "metadata": {},
   "outputs": [],
   "source": [
    "#Deletion of the low quality patches\n",
    "print('Inizial number of Tiles: ',len(os.listdir(os.path.join(output_folder,'tiles'))))\n",
    "print('Number of tiles to eliminate: ',len(filtered_xy))\n",
    "for coord in filtered_xy:\n",
    "    name_coord=output_folder+'/tiles/'+'x'+str(coord[1])+'_y'+str(coord[0])+'_w1250_h1250.png'\n",
    "    os.remove(name_coord)"
   ]
  },
  {
   "cell_type": "code",
   "execution_count": null,
   "metadata": {},
   "outputs": [],
   "source": [
    "#Code to identify all the tissue present in the slide, expecially if there are more than one!\n",
    "thumb=hp.SlideReader(os.path.join(output_folder,\"thumbnail.jpeg\"))\n",
    "image,mask =thumb.get_tissue_mask()\n",
    "\n",
    "kernel_size = (30,30) #Change the kernel size\n",
    "mask2 = cv2.dilate(mask, np.ones(kernel_size, np.uint8), iterations=5)\n",
    "plt.imshow(mask2)\n",
    "contours, __ = cv2.findContours(\n",
    "    mask2, cv2.RETR_CCOMP, cv2.CHAIN_APPROX_SIMPLE)\n",
    "areas = np.array([cv2.contourArea(x) for x in contours])\n",
    "maxarea=max(areas) \n",
    "minarea=maxarea-(maxarea*40/100) #Change how much reduce the maximal area\n",
    "\n",
    "#Find the bounding boxes of each tissue\n",
    "cc=[]\n",
    "for cnts in contours:\n",
    "    aa=cv2.contourArea(cnts)\n",
    "    if aa>=minarea:\n",
    "        cc.append(cnts)\n",
    "len(cc)\n",
    "bounding_boxes = [cv2.boundingRect(cnt) for cnt in cc]"
   ]
  },
  {
   "cell_type": "code",
   "execution_count": null,
   "metadata": {},
   "outputs": [],
   "source": [
    "#If there is one tissue in the slide, this code is used to change the name of each patch to the required format. Instead, if there are more tissue in the slide, this code allows\n",
    "#to save the patches in separated folders according with the tissues\n",
    "for i in range(0,len(metadata)):\n",
    "    j=1\n",
    "    x_d = round(metadata['x'][i]/downsample)\n",
    "    y_d = round(metadata['y'][i]/downsample)\n",
    "    \n",
    "    if len(bounding_boxes)>1:\n",
    "        # Load the thumbnail image\n",
    "        thumbnail_path=os.path.join(output_folder,'thumbnail.jpeg')\n",
    "        thumbnail=Image.open(thumbnail_path).convert('RGB')\n",
    "        annotated_thumbnail = thumbnail.copy()\n",
    "        annotated = ImageDraw.Draw(annotated_thumbnail)\n",
    "        width=1250\n",
    "        downsample = 64\n",
    "        w = h = int(width/downsample)\n",
    "        color=['red','blue','green','yellow','black','magenta']\n",
    "        for box in bounding_boxes:\n",
    "            if (x_d>=box[0] and x_d<=box[0]+box[2]) and (y_d>=box[1] and y_d<=box[1]+box[3]):\n",
    "                annotated.rectangle([x_d, y_d, x_d+w, y_d+h]\n",
    "                                        , outline=color[j-1], width=4)\n",
    "                folder=os.path.join(output_folder,'tiles_n'+str(j))\n",
    "                if not os.path.exists(folder): \n",
    "                    os.makedirs(folder)\n",
    "                #Name sostitution not only for moving the patches to the relative folder but also to change the name to the correct format required for the following steps\n",
    "                old_name_coord=output_folder+'/tiles/'+'x'+str(metadata['x'][i])+'_y'+str(metadata['y'][i])+'_w1250_h1250.png'\n",
    "                new_name_coord=folder+'/'+'x-'+str(metadata['x'][i])+'_y-'+str(metadata['y'][i])+'.png'\n",
    "                shutil.move(old_name_coord, new_name_coord)\n",
    "            j+=1\n",
    "        annotated_thumbnail.save(os.path.join(output_folder,'thumbnail_diff_tissue.jpeg'))\n",
    "        for i in range(0,len(bounding_boxes)):\n",
    "             print('Tile number n: ',i+1,'with color: ',color[i])\n",
    "\n",
    "    elif len(bounding_boxes)==1:\n",
    "        #Name sostitution to change the name to the correct format required for the following steps\n",
    "            old_name_coord=output_folder+'/tiles/'+'x'+str(metadata['x'][i])+'_y'+str(metadata['y'][i])+'_w1250_h1250.png'\n",
    "            new_name_coord=output_folder+'/tiles/'+'x-'+str(metadata['x'][i])+'_y-'+str(metadata['y'][i])+'.png'\n",
    "            shutil.move(old_name_coord, new_name_coord)\n"
   ]
  }
 ],
 "metadata": {
  "kernelspec": {
   "display_name": "Python 3.10.4 ('base')",
   "language": "python",
   "name": "python3"
  },
  "language_info": {
   "codemirror_mode": {
    "name": "ipython",
    "version": 3
   },
   "file_extension": ".py",
   "mimetype": "text/x-python",
   "name": "python",
   "nbconvert_exporter": "python",
   "pygments_lexer": "ipython3",
   "version": "3.9.16"
  },
  "vscode": {
   "interpreter": {
    "hash": "d4d1e4263499bec80672ea0156c357c1ee493ec2b1c70f0acce89fc37c4a6abe"
   }
  }
 },
 "nbformat": 4,
 "nbformat_minor": 2
}
