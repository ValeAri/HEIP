{
 "cells": [
  {
   "cell_type": "markdown",
   "metadata": {},
   "source": [
    "# Downstream analysis\n",
    "In this notebook the downstream analysis is shown. The most important fuctions are illustrate and the features are extracted for all the cells in the WSI."
   ]
  },
  {
   "cell_type": "code",
   "execution_count": 1,
   "metadata": {},
   "outputs": [],
   "source": [
    "# Imports\n",
    "from shapely.geometry import LineString\n",
    "import numpy as np\n",
    "import pandas as pd\n",
    "import geopandas as gpd\n",
    "import shapely\n",
    "import os\n",
    "import func_utils as fu\n",
    "import sys"
   ]
  },
  {
   "cell_type": "code",
   "execution_count": 2,
   "metadata": {},
   "outputs": [],
   "source": [
    "# Import the json\n",
    "path='./Output/InstanceSegmentation/' #Input forlder\n",
    "sample='' #Specific slide name with the extation\n",
    "gson=os.path.join(path,sample)"
   ]
  },
  {
   "cell_type": "code",
   "execution_count": 3,
   "metadata": {},
   "outputs": [
    {
     "data": {
      "text/html": [
       "<div>\n",
       "<style scoped>\n",
       "    .dataframe tbody tr th:only-of-type {\n",
       "        vertical-align: middle;\n",
       "    }\n",
       "\n",
       "    .dataframe tbody tr th {\n",
       "        vertical-align: top;\n",
       "    }\n",
       "\n",
       "    .dataframe thead th {\n",
       "        text-align: right;\n",
       "    }\n",
       "</style>\n",
       "<table border=\"1\" class=\"dataframe\">\n",
       "  <thead>\n",
       "    <tr style=\"text-align: right;\">\n",
       "      <th></th>\n",
       "      <th>type</th>\n",
       "      <th>id</th>\n",
       "      <th>geometry</th>\n",
       "      <th>properties</th>\n",
       "    </tr>\n",
       "  </thead>\n",
       "  <tbody>\n",
       "    <tr>\n",
       "      <th>0</th>\n",
       "      <td>Feature</td>\n",
       "      <td>PathCellDetection</td>\n",
       "      <td>POLYGON ((34929.012 45173.004, 34929.012 45177...</td>\n",
       "      <td>{'isLocked': 'false', 'measurements': [], 'cla...</td>\n",
       "    </tr>\n",
       "    <tr>\n",
       "      <th>1</th>\n",
       "      <td>Feature</td>\n",
       "      <td>PathCellDetection</td>\n",
       "      <td>POLYGON ((34465.012 45248.995, 34466.005 45249...</td>\n",
       "      <td>{'isLocked': 'false', 'measurements': [], 'cla...</td>\n",
       "    </tr>\n",
       "    <tr>\n",
       "      <th>2</th>\n",
       "      <td>Feature</td>\n",
       "      <td>PathCellDetection</td>\n",
       "      <td>POLYGON ((34735.012 45234.003, 34735.012 45242...</td>\n",
       "      <td>{'isLocked': 'false', 'measurements': [], 'cla...</td>\n",
       "    </tr>\n",
       "    <tr>\n",
       "      <th>3</th>\n",
       "      <td>Feature</td>\n",
       "      <td>PathCellDetection</td>\n",
       "      <td>POLYGON ((34908.012 45246.995, 34915.826 45254...</td>\n",
       "      <td>{'isLocked': 'false', 'measurements': [], 'cla...</td>\n",
       "    </tr>\n",
       "    <tr>\n",
       "      <th>4</th>\n",
       "      <td>Feature</td>\n",
       "      <td>PathCellDetection</td>\n",
       "      <td>POLYGON ((34714.012 45246.005, 34714.012 45251...</td>\n",
       "      <td>{'isLocked': 'false', 'measurements': [], 'cla...</td>\n",
       "    </tr>\n",
       "    <tr>\n",
       "      <th>...</th>\n",
       "      <td>...</td>\n",
       "      <td>...</td>\n",
       "      <td>...</td>\n",
       "      <td>...</td>\n",
       "    </tr>\n",
       "    <tr>\n",
       "      <th>48978</th>\n",
       "      <td>Feature</td>\n",
       "      <td>PathCellDetection</td>\n",
       "      <td>POLYGON ((56825.012 49970.005, 56825.012 49972...</td>\n",
       "      <td>{'isLocked': 'false', 'measurements': [], 'cla...</td>\n",
       "    </tr>\n",
       "    <tr>\n",
       "      <th>48979</th>\n",
       "      <td>Feature</td>\n",
       "      <td>PathCellDetection</td>\n",
       "      <td>POLYGON ((56595.012 49979.005, 56595.012 49987...</td>\n",
       "      <td>{'isLocked': 'false', 'measurements': [], 'cla...</td>\n",
       "    </tr>\n",
       "    <tr>\n",
       "      <th>48980</th>\n",
       "      <td>Feature</td>\n",
       "      <td>PathCellDetection</td>\n",
       "      <td>POLYGON ((56716.012 49983.003, 56716.012 49987...</td>\n",
       "      <td>{'isLocked': 'false', 'measurements': [], 'cla...</td>\n",
       "    </tr>\n",
       "    <tr>\n",
       "      <th>48981</th>\n",
       "      <td>Feature</td>\n",
       "      <td>PathCellDetection</td>\n",
       "      <td>POLYGON ((56615.011 49998.989, 56630.989 49998...</td>\n",
       "      <td>{'isLocked': 'false', 'measurements': [], 'cla...</td>\n",
       "    </tr>\n",
       "    <tr>\n",
       "      <th>48982</th>\n",
       "      <td>Feature</td>\n",
       "      <td>PathCellDetection</td>\n",
       "      <td>POLYGON ((56781.011 49998.989, 56781.245 49999...</td>\n",
       "      <td>{'isLocked': 'false', 'measurements': [], 'cla...</td>\n",
       "    </tr>\n",
       "  </tbody>\n",
       "</table>\n",
       "<p>48983 rows × 4 columns</p>\n",
       "</div>"
      ],
      "text/plain": [
       "          type                 id  \\\n",
       "0      Feature  PathCellDetection   \n",
       "1      Feature  PathCellDetection   \n",
       "2      Feature  PathCellDetection   \n",
       "3      Feature  PathCellDetection   \n",
       "4      Feature  PathCellDetection   \n",
       "...        ...                ...   \n",
       "48978  Feature  PathCellDetection   \n",
       "48979  Feature  PathCellDetection   \n",
       "48980  Feature  PathCellDetection   \n",
       "48981  Feature  PathCellDetection   \n",
       "48982  Feature  PathCellDetection   \n",
       "\n",
       "                                                geometry  \\\n",
       "0      POLYGON ((34929.012 45173.004, 34929.012 45177...   \n",
       "1      POLYGON ((34465.012 45248.995, 34466.005 45249...   \n",
       "2      POLYGON ((34735.012 45234.003, 34735.012 45242...   \n",
       "3      POLYGON ((34908.012 45246.995, 34915.826 45254...   \n",
       "4      POLYGON ((34714.012 45246.005, 34714.012 45251...   \n",
       "...                                                  ...   \n",
       "48978  POLYGON ((56825.012 49970.005, 56825.012 49972...   \n",
       "48979  POLYGON ((56595.012 49979.005, 56595.012 49987...   \n",
       "48980  POLYGON ((56716.012 49983.003, 56716.012 49987...   \n",
       "48981  POLYGON ((56615.011 49998.989, 56630.989 49998...   \n",
       "48982  POLYGON ((56781.011 49998.989, 56781.245 49999...   \n",
       "\n",
       "                                              properties  \n",
       "0      {'isLocked': 'false', 'measurements': [], 'cla...  \n",
       "1      {'isLocked': 'false', 'measurements': [], 'cla...  \n",
       "2      {'isLocked': 'false', 'measurements': [], 'cla...  \n",
       "3      {'isLocked': 'false', 'measurements': [], 'cla...  \n",
       "4      {'isLocked': 'false', 'measurements': [], 'cla...  \n",
       "...                                                  ...  \n",
       "48978  {'isLocked': 'false', 'measurements': [], 'cla...  \n",
       "48979  {'isLocked': 'false', 'measurements': [], 'cla...  \n",
       "48980  {'isLocked': 'false', 'measurements': [], 'cla...  \n",
       "48981  {'isLocked': 'false', 'measurements': [], 'cla...  \n",
       "48982  {'isLocked': 'false', 'measurements': [], 'cla...  \n",
       "\n",
       "[48983 rows x 4 columns]"
      ]
     },
     "execution_count": 3,
     "metadata": {},
     "output_type": "execute_result"
    }
   ],
   "source": [
    "#import the json file with all the cell (shapely geometry)\n",
    "cellDoc = pd.read_json(gson)\n",
    "cellDoc[\"geometry\"] = cellDoc[\"geometry\"].apply(shapely.geometry.shape)\n",
    "cells = gpd.GeoDataFrame(cellDoc).set_geometry('geometry')\n",
    "cells"
   ]
  },
  {
   "cell_type": "code",
   "execution_count": 4,
   "metadata": {},
   "outputs": [
    {
     "name": "stdout",
     "output_type": "stream",
     "text": [
      "Neoplastic cells: 11021\n",
      "Inflammatory cells: 7067\n",
      "Connective cells: 30874\n"
     ]
    }
   ],
   "source": [
    "# Function to extract information regarding the numbers of Neoplastic, Inflammatory and Connective cells present in the WSI slide\n",
    "data,cells_list,poly_list=fu.cell_counting(cells)\n",
    "print('Neoplastic cells: %i\\nInflammatory cells: %i\\nConnective cells: %i' %(data['neoplastic'],data['inflammatory'],data['connective']))"
   ]
  },
  {
   "cell_type": "code",
   "execution_count": 5,
   "metadata": {},
   "outputs": [
    {
     "name": "stdout",
     "output_type": "stream",
     "text": [
      "Neoplastic percentage: 0.225\n",
      "Inflammatory percentage: 0.144\n",
      "Connective percentage: 0.631\n"
     ]
    }
   ],
   "source": [
    "# Function to extract the percentage of Neoplastic, Inflammatory and Connective cells present in the WSI slide\n",
    "norm_data=fu.N_F_C_norm(data)\n",
    "print('Neoplastic percentage: %.3f\\nInflammatory percentage: %.3f\\nConnective percentage: %.3f' %(norm_data['neoplastic'],norm_data['inflammatory'],norm_data['connective']))"
   ]
  },
  {
   "cell_type": "code",
   "execution_count": 6,
   "metadata": {},
   "outputs": [
    {
     "name": "stdout",
     "output_type": "stream",
     "text": [
      "Shannon Index: 0.393\n"
     ]
    }
   ],
   "source": [
    "# Function to extract the Shannon Index\n",
    "ShannonIndex=fu.Shannon_indx(data)        \n",
    "print('Shannon Index: %.3f'% ShannonIndex)"
   ]
  },
  {
   "cell_type": "code",
   "execution_count": 7,
   "metadata": {},
   "outputs": [],
   "source": [
    "# Morphological features extraction from cells\n",
    "#Area\n",
    "areas=fu.geoArea(cells_list)\n",
    "#Solidity\n",
    "solidit=fu.geoSolidity(cells_list)\n",
    "#Eccentricity \n",
    "eccentr=fu.geoEccentricity(cells_list)\n",
    "#Rotation\n",
    "rot_ang=fu.geoRotation(cells_list)\n",
    "#Minor Axis, Major Axis and Aspect Ratio\n",
    "minor_axis, major_axis, aspect_ratio=fu.geoAxis(cells_list)\n",
    "#Roundness\n",
    "roundness=fu.geoRoundness(cells_list)\n",
    "#Perimeter\n",
    "perimeter=fu.geoPerimeter(cells_list)\n"
   ]
  },
  {
   "cell_type": "code",
   "execution_count": 8,
   "metadata": {},
   "outputs": [
    {
     "data": {
      "text/html": [
       "<div>\n",
       "<style scoped>\n",
       "    .dataframe tbody tr th:only-of-type {\n",
       "        vertical-align: middle;\n",
       "    }\n",
       "\n",
       "    .dataframe tbody tr th {\n",
       "        vertical-align: top;\n",
       "    }\n",
       "\n",
       "    .dataframe thead th {\n",
       "        text-align: right;\n",
       "    }\n",
       "</style>\n",
       "<table border=\"1\" class=\"dataframe\">\n",
       "  <thead>\n",
       "    <tr style=\"text-align: right;\">\n",
       "      <th></th>\n",
       "      <th>CellType</th>\n",
       "      <th>Area</th>\n",
       "      <th>Solidity</th>\n",
       "      <th>Eccentricity</th>\n",
       "      <th>Rotation</th>\n",
       "      <th>MinorAxis</th>\n",
       "      <th>MajorAxis</th>\n",
       "      <th>Aspect ratio</th>\n",
       "      <th>Roundness</th>\n",
       "      <th>Perimeter</th>\n",
       "    </tr>\n",
       "  </thead>\n",
       "  <tbody>\n",
       "    <tr>\n",
       "      <th>0</th>\n",
       "      <td>connective</td>\n",
       "      <td>463.533808</td>\n",
       "      <td>1.000000</td>\n",
       "      <td>0.771605</td>\n",
       "      <td>0.785398</td>\n",
       "      <td>19.775103</td>\n",
       "      <td>31.087962</td>\n",
       "      <td>1.572076</td>\n",
       "      <td>0.610671</td>\n",
       "      <td>80.028605</td>\n",
       "    </tr>\n",
       "    <tr>\n",
       "      <th>1</th>\n",
       "      <td>connective</td>\n",
       "      <td>192.028756</td>\n",
       "      <td>1.000000</td>\n",
       "      <td>0.934263</td>\n",
       "      <td>-1.249056</td>\n",
       "      <td>9.462207</td>\n",
       "      <td>26.535741</td>\n",
       "      <td>2.804392</td>\n",
       "      <td>0.347227</td>\n",
       "      <td>59.694483</td>\n",
       "    </tr>\n",
       "    <tr>\n",
       "      <th>2</th>\n",
       "      <td>neoplastic</td>\n",
       "      <td>558.555043</td>\n",
       "      <td>0.989933</td>\n",
       "      <td>0.842325</td>\n",
       "      <td>1.231501</td>\n",
       "      <td>19.778324</td>\n",
       "      <td>36.696525</td>\n",
       "      <td>1.855391</td>\n",
       "      <td>0.528112</td>\n",
       "      <td>93.717395</td>\n",
       "    </tr>\n",
       "    <tr>\n",
       "      <th>3</th>\n",
       "      <td>connective</td>\n",
       "      <td>383.224720</td>\n",
       "      <td>0.993968</td>\n",
       "      <td>0.870330</td>\n",
       "      <td>-1.325603</td>\n",
       "      <td>16.228003</td>\n",
       "      <td>32.952393</td>\n",
       "      <td>2.030588</td>\n",
       "      <td>0.449355</td>\n",
       "      <td>81.140904</td>\n",
       "    </tr>\n",
       "    <tr>\n",
       "      <th>4</th>\n",
       "      <td>neoplastic</td>\n",
       "      <td>282.824283</td>\n",
       "      <td>1.000000</td>\n",
       "      <td>0.320356</td>\n",
       "      <td>1.570786</td>\n",
       "      <td>17.976246</td>\n",
       "      <td>18.976351</td>\n",
       "      <td>1.055635</td>\n",
       "      <td>1.000003</td>\n",
       "      <td>60.527147</td>\n",
       "    </tr>\n",
       "  </tbody>\n",
       "</table>\n",
       "</div>"
      ],
      "text/plain": [
       "     CellType        Area  Solidity  Eccentricity  Rotation  MinorAxis  \\\n",
       "0  connective  463.533808  1.000000      0.771605  0.785398  19.775103   \n",
       "1  connective  192.028756  1.000000      0.934263 -1.249056   9.462207   \n",
       "2  neoplastic  558.555043  0.989933      0.842325  1.231501  19.778324   \n",
       "3  connective  383.224720  0.993968      0.870330 -1.325603  16.228003   \n",
       "4  neoplastic  282.824283  1.000000      0.320356  1.570786  17.976246   \n",
       "\n",
       "   MajorAxis  Aspect ratio  Roundness  Perimeter  \n",
       "0  31.087962      1.572076   0.610671  80.028605  \n",
       "1  26.535741      2.804392   0.347227  59.694483  \n",
       "2  36.696525      1.855391   0.528112  93.717395  \n",
       "3  32.952393      2.030588   0.449355  81.140904  \n",
       "4  18.976351      1.055635   1.000003  60.527147  "
      ]
     },
     "execution_count": 8,
     "metadata": {},
     "output_type": "execute_result"
    }
   ],
   "source": [
    "# Function to obtain all the features in one variable\n",
    "cell_feat=fu.cell_features(cells)\n",
    "cell_feat.head()"
   ]
  }
 ],
 "metadata": {
  "kernelspec": {
   "display_name": "Python 3.9.12 ('DippaEnv')",
   "language": "python",
   "name": "python3"
  },
  "language_info": {
   "codemirror_mode": {
    "name": "ipython",
    "version": 3
   },
   "file_extension": ".py",
   "mimetype": "text/x-python",
   "name": "python",
   "nbconvert_exporter": "python",
   "pygments_lexer": "ipython3",
   "version": "3.6.13"
  },
  "orig_nbformat": 4,
  "vscode": {
   "interpreter": {
    "hash": "c92c250f6de1aacbc50b07a49e4e2f332be503841a59c2a27d8245d602c8939b"
   }
  }
 },
 "nbformat": 4,
 "nbformat_minor": 2
}
