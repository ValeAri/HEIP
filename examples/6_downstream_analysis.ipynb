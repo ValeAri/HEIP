{
 "cells": [
  {
   "attachments": {},
   "cell_type": "markdown",
   "metadata": {},
   "source": [
    "# Downstream analysis\n",
    "\n",
    "In this notebook the downstream analysis is shown. The most important fuctions are illustrated and the features are extracted for all the cells in the WSI."
   ]
  },
  {
   "cell_type": "code",
   "execution_count": null,
   "metadata": {},
   "outputs": [],
   "source": [
    "import pandas as pd\n",
    "import geopandas as gpd\n",
    "import shapely\n",
    "import os\n",
    "import src.func_utils as fu"
   ]
  },
  {
   "cell_type": "code",
   "execution_count": null,
   "metadata": {},
   "outputs": [],
   "source": [
    "# Import the json\n",
    "path='./Output/InstanceSegmentation/' #Input forlder\n",
    "sample='' #Specific slide name with the extation\n",
    "gson=os.path.join(path,sample)"
   ]
  },
  {
   "cell_type": "code",
   "execution_count": null,
   "metadata": {},
   "outputs": [],
   "source": [
    "#import the json file with all the cell (shapely geometry)\n",
    "cellDoc = pd.read_json(gson)\n",
    "cellDoc[\"geometry\"] = cellDoc[\"geometry\"].apply(shapely.geometry.shape)\n",
    "cells = gpd.GeoDataFrame(cellDoc).set_geometry('geometry')\n",
    "cells"
   ]
  },
  {
   "cell_type": "code",
   "execution_count": null,
   "metadata": {},
   "outputs": [],
   "source": [
    "# Function to extract information regarding the numbers of Neoplastic, Inflammatory and Connective cells present in the WSI slide\n",
    "data, cells_list, poly_list=fu.cell_counts(cells)\n",
    "print('Neoplastic cells: %i\\nInflammatory cells: %i\\nConnective cells: %i' %(data['neoplastic'],data['inflammatory'],data['connective']))"
   ]
  },
  {
   "cell_type": "code",
   "execution_count": null,
   "metadata": {},
   "outputs": [],
   "source": [
    "# Function to extract the percentage of Neoplastic, Inflammatory and Connective cells present in the WSI slide\n",
    "norm_data=fu.cell_percentages(data)\n",
    "print('Neoplastic percentage: %.3f\\nInflammatory percentage: %.3f\\nConnective percentage: %.3f' %(norm_data['neoplastic'],norm_data['inflammatory'],norm_data['connective']))"
   ]
  },
  {
   "cell_type": "code",
   "execution_count": null,
   "metadata": {},
   "outputs": [],
   "source": [
    "# Function to extract the Shannon Index\n",
    "ShannonIndex=fu.shannon_index(data)        \n",
    "print('Shannon Index: %.3f'% ShannonIndex)"
   ]
  },
  {
   "cell_type": "code",
   "execution_count": null,
   "metadata": {},
   "outputs": [],
   "source": [
    "# Morphological features extraction from cells\n",
    "#Area\n",
    "areas=fu.geo_area(cells_list)\n",
    "# Volume\n",
    "S_volume=fu.geoEllisVolume(cells_list)\n",
    "#Solidity\n",
    "solidit=fu.geo_solidity(cells_list)\n",
    "#Eccentricity \n",
    "eccentr=fu.geo_eccentricity(cells_list)\n",
    "#Rotation\n",
    "rot_ang=fu.geo_rotation(cells_list)\n",
    "#Minor Axis, Major Axis and Aspect Ratio\n",
    "minor_axis, major_axis, aspect_ratio=fu.geo_axis(cells_list)\n",
    "#Roundness\n",
    "roundness=fu.geo_roundness(cells_list)\n",
    "#Perimeter\n",
    "perimeter=fu.geo_perimeter(cells_list)\n"
   ]
  },
  {
   "cell_type": "code",
   "execution_count": null,
   "metadata": {},
   "outputs": [],
   "source": [
    "# Function to obtain all the features in one variable\n",
    "cell_feat=fu.cell_features(cells)\n",
    "cell_feat.head()"
   ]
  }
 ],
 "metadata": {
  "kernelspec": {
   "display_name": "Python 3.10.6 ('HEIP')",
   "language": "python",
   "name": "python3"
  },
  "language_info": {
   "codemirror_mode": {
    "name": "ipython",
    "version": 3
   },
   "file_extension": ".py",
   "mimetype": "text/x-python",
   "name": "python",
   "nbconvert_exporter": "python",
   "pygments_lexer": "ipython3",
   "version": "3.9.16"
  },
  "orig_nbformat": 4,
  "vscode": {
   "interpreter": {
    "hash": "e0d2a606a7c412844c6f9f1489afeb28cbb42dbd047622a5aacfb3b04c3fbe12"
   }
  }
 },
 "nbformat": 4,
 "nbformat_minor": 2
}
